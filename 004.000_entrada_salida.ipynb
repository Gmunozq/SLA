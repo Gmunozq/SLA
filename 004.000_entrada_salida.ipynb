{
 "cells": [
  {
   "cell_type": "markdown",
   "metadata": {
    "collapsed": true
   },
   "source": [
    "# Descripción de entrada - salida\n",
    "\n",
    "## Respuesta a entrada cero y respuesta a estado cero\n",
    "\n",
    "Para ilustrar algunos conceptos usaremos un condensador (C) para visualizarlos:\n",
    "* la entrada del sistema $i(t)$ será la corriente, \n",
    "* el estado inicial del sistema $q(t_0)$ será la carga inicial,\n",
    "* la salida del sistema $v(t)$ será el voltaje. \n",
    "Los cuales se relacionan con la siguiente ecuación.\n",
    "$$ v(t_1) = \\frac{1}{C} q(t_0) + \\frac{1}{C} \\int_{t_0}^{t_1} i(t) dt $$\n",
    "Suponiendo que la corriente es constante $i(t)=I$, obtenemos:\n",
    "$$ v(t_1) = \\frac{1}{C} q(t_0) + \\frac{1}{C}  I (t_1 - t_0) $$\n",
    "\n",
    "Aquí se puede observar que la salida depende de dos términos:\n",
    "* El primer término ($\\frac{1}{C} q(t_0)$) depende sólo del estado inicial y no de la entrada. Este término se conoce como la __respuesta a entrada cero__ y, en cualquier sistema lineal, corresponde a la salida si la entrada es cero. \n",
    "* El segundo termino ($\\frac{1}{C}  I (t_1 - t_0)$) depende sólo de la entrada y no del estado inicial. Este término se conoce como la __respuesta a estado cero__ y, en cualquier sistema lineal, corresponde a la salida si el estado inicial es cero.   \n",
    "<img src=\"chenDefZirZsr.png\"/>\n",
    "\n",
    "En cualquier sistema lineal también podemos hacer esa separación. \n",
    "$$\\text{Respuesta del sistema}=\\text{respuesta de entrada cero} + \\text{respuesta de estado cero}$$\n",
    "<img src=\"sis_linZirZsr.png\"/>\n",
    "\n",
    "\n",
    "## Aproximación con pulsos cuadrados\n",
    "\n",
    "Sea $\\delta_\\Delta(t-t_1)$ el pulso de la Figura 2.3, el cual tiene un ancho $\\Delta$ y una altura $1/\\Delta$ y está localizado en el tiempo $t_1$. \n",
    "<img src=\"chenfig02.03.PNG\"/>\n",
    "\n",
    "Entonces cada entrada $u(t)$ puede ser aproximada por una secuencia de pulsos como se muestra en la Figura 2.4.\n",
    "$$u(t) \\approx \\sum_i u(t_i) \\delta_\\Delta(t-t_i)\\Delta$$\n",
    "<img src=\"chenfig02.04.PNG\"/>\n",
    "\n",
    "Sea $g_\\Delta(t,t_i)$ la salida en tiempo $t$ debida al pulso $\\delta_\\Delta(t-t_i)$ aplicado en $t_i$. Entonces\n",
    "\n",
    "\\begin{align}\n",
    "\\delta_\\Delta(t-t_i) &\\rightarrow g_\\Delta(t,t_i)\\\\\n",
    "\\delta_\\Delta(t-t_i)u(t_i)\\Delta &\\rightarrow g_\\Delta(t,t_i)u(t_i)\\Delta\\\\\n",
    "\\sum_i \\delta_\\Delta(t-t_i)u(t_i)\\Delta &\\rightarrow \\sum_ig_\\Delta(t,t_i)u(t_i)\\Delta\n",
    "\\end{align}\n",
    "Entonces la salida $y(t)$ debido a la entrada $u(t)$ puede ser aproximada por\n",
    "$$y(t) \\approx \\sum_ig_\\Delta(t,t_i)u(t_i)\\Delta$$\n"
   ]
  },
  {
   "cell_type": "markdown",
   "metadata": {},
   "source": [
    "Al aproximarse $\\Delta$ a cero el pulso  $\\delta_\\Delta(t-t_i)$ se convierte en la función impulso en $t_i$, denotada $\\delta(t-t_i)$. Además, la sumatoria queda en una integral.\n",
    "$$y(t)=\\int_{-\\infty}^\\infty g(t)u(\\tau)d\\tau$$\n",
    "donde $g(t)$ es la __respuesta al impulso__. Como el sistema debe ser causal entonces la salida sólo puede aparecer luego de que la entrada sea aplicada, por lo tanto $g(t)=0$ para $t \\leq \\tau$.\n",
    "\n",
    "Un sistema está __relajado__ en $t_0$ si su estado inicial en $t_0$ es $0$. En este caso la salida se debe únicamente a la entrada $u(t)$ para $t \\geq t_0$.\n",
    "Por lo tanto todo sistema lineal, causal y relajado en $t_0$ se puede describir por\n",
    "$$ y(t)=\\int_{t_0}^t g(t) u(\\tau) d\\tau \\ \\ \\ \\text{(2.4)}$$\n"
   ]
  }
 ],
 "metadata": {
  "kernelspec": {
   "display_name": "Python 3",
   "language": "python",
   "name": "python3"
  },
  "language_info": {
   "codemirror_mode": {
    "name": "ipython",
    "version": 3
   },
   "file_extension": ".py",
   "mimetype": "text/x-python",
   "name": "python",
   "nbconvert_exporter": "python",
   "pygments_lexer": "ipython3",
   "version": "3.6.0"
  }
 },
 "nbformat": 4,
 "nbformat_minor": 2
}
