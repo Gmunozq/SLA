{
 "cells": [
  {
   "cell_type": "markdown",
   "metadata": {},
   "source": [
    "# Matriz de funciones de transferencia\n",
    "\n",
    "\n",
    "Un sistema con múltiples entradas $\\vec{u}$ y múltuples salidas $\\vec{u}$ (MIMO) y con parámetros concentrados, se puede describir de la siguiente forma\n",
    "$$ \\vec{y}(t)=\\int_{t_0}^t \\mathbf{g}(t-\\tau) \\vec{u}(\\tau) d\\tau $$\n",
    "donde\n",
    "$$\\mathbf{g}(t)=\\begin{bmatrix} \n",
    "g_{11}(t) & g_{12}(t) & \\cdots & g_{1p}(t)\\\\\n",
    "g_{21}(t) & g_{22}(t) & \\cdots & g_{2p}(t)\\\\\n",
    "\\vdots & \\vdots & \\ddots & \\vdots \\\\\n",
    "g_{q1}(t) & g_{q2}(t) & \\cdots & g_{qp}(t)\n",
    "\\end{bmatrix}$$\n",
    "y $g_{ij}(t)$ es:\n",
    "* la respuesta en la salida $i$, \n",
    "* debido al impulso $\\delta(t)$ en la entrada $j$, \n",
    "* mientras las otras entradas son cero. \n",
    "\n",
    "$\\mathbf{g}$ se conoce como la __matriz a la respuesta impulso__. \n",
    "\n",
    "Al aplicar la transformada de Laplace a cada elemento de la matriz($G_{ij}(s)=\\mathcal{L}(g_{ij}(t))$), se obtiene la matriz \n",
    "\n",
    "$$\\mathbf{G}(s)=\\begin{bmatrix} \n",
    "G_{11}(s) & G_{12}(s) & \\cdots & G_{1p}(s)\\\\\n",
    "G_{21}(s) & G_{22}(s) & \\cdots & G_{2p}(s)\\\\\n",
    "\\vdots & \\vdots & \\ddots & \\vdots \\\\\n",
    "G_{q1}(s) & G_{q2}(s) & \\cdots & G_{qp}(s)\n",
    "\\end{bmatrix}$$\n",
    "\n",
    "\n",
    "\n",
    "Aplicando las propiedades de la transformada de Laplace obtenemos \n",
    "\n",
    "$$ \\mathcal{L}(\\vec{y}(t))=\\mathcal{L}\\left(\\int_{t_0}^t \\mathbf{g}(t) \\vec{u}(\\tau) d\\tau \\right)$$\n",
    "$$ \\mathcal{L}(\\vec{y}(t))=\\mathcal{L}(\\mathbf{g}(t)) \\mathcal{L}(\\vec{u}(t)))$$\n",
    "$$\\vec{Y}(s)=\\mathbf{G}(s)\\vec{U}(s)$$\n",
    "\n",
    "\n",
    "\n"
   ]
  }
 ],
 "metadata": {
  "kernelspec": {
   "display_name": "Python 3",
   "language": "python",
   "name": "python3"
  },
  "language_info": {
   "codemirror_mode": {
    "name": "ipython",
    "version": 3
   },
   "file_extension": ".py",
   "mimetype": "text/x-python",
   "name": "python",
   "nbconvert_exporter": "python",
   "pygments_lexer": "ipython3",
   "version": "3.6.0"
  }
 },
 "nbformat": 4,
 "nbformat_minor": 2
}
