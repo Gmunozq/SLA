{
 "cells": [
  {
   "cell_type": "code",
   "execution_count": 2,
   "metadata": {
    "collapsed": true
   },
   "outputs": [],
   "source": [
    "from sympy import * \n",
    "import IPython\n",
    "from ubogsla18p import *\n",
    "s,t=symbols('s t')"
   ]
  },
  {
   "cell_type": "markdown",
   "metadata": {},
   "source": [
    "# Variables de estado\n",
    "\n",
    "Chen 4.2, \n",
    "[Para esta sección es necesario saber cómo calcular $e^{-At}$, su derivada, su inversa y su transformada de Laplace.](falta)\n",
    "\n",
    "La multiplicación matricial de la función de transferencia \n",
    "$$\\vec{Y}(s)=\\mathbf{G}(s)\\vec{U}(s)$$\n",
    "no se puede representar algebraicamente en el tiempo, pero usando unas variables de estado $\\vec{x}(t)$ se puede representar de la siguiente forma\n",
    "$$\\dot{\\vec{x}}(t)=A\\vec{x}(t)+B\\vec{u}(t) \\ \\ \\ \\ \\text{Ecuación de estado} $$\n",
    "$$\\vec{y}(t)=C\\vec{x}(t)+D\\vec{u}(t) \\ \\ \\ \\ \\text{Ecuación de salida}$$\n",
    " la cual se conoce como  __ecuaciones del espacio de estados__. Donde $A$, $B$, $C$ y $D$ son matrices. \n",
    "\n",
    "A continuación se presenta el procedimiento para obtener la matriz de transferencia a partir de las matrices $A$, $B$, $C$ y $D$. Se comienza con la ecuación de estado.\n",
    "\\begin{align}\n",
    "\\dot{\\vec{x}}(t)&=A\\vec{x}(t)+B\\vec{u}(t)\\\\\n",
    "e^{-At}\\dot{\\vec{x}}(t)&=e^{-At}A\\vec{x}(t)+e^{-At}B\\vec{u}(t)\\\\\n",
    "e^{-At}\\dot{\\vec{x}}(t)-e^{-At}A\\vec{x}(t)&=e^{-At}B\\vec{u}(t)\\\\\n",
    "\\frac{d}{dt}(e^{-At}\\vec{x}(t))&=e^{-At}B\\vec{u}(t)\\\\\n",
    "\\int_0^t \\frac{d}{dt}(e^{-At}\\vec{x}(t))d\\tau&=\\int_0^t e^{-A\\tau}B\\vec{u}(t)d\\tau\\\\\n",
    "e^{-At}\\vec{x}(t)-e^{-A0}\\vec{x}(0)&=\\int_0^t e^{-A\\tau}B\\vec{u}(t)d\\tau\\\\\n",
    "e^{-At}\\vec{x}(t)&=e^{-A0}\\vec{x}(0)+\\int_0^t e^{-A\\tau}B\\vec{u}(t)d\\tau\\\\\n",
    "\\vec{x}(t)&=e^{At}e^{-A0}\\vec{x}(0)+e^{At}\\int_0^t e^{-A\\tau}B\\vec{u}(t)d\\tau\\\\\n",
    "\\vec{x}(t)&=e^{At}\\vec{x}(0)+\\int_0^t e^{A(t-\\tau)}B\\vec{u}(t)d\\tau\\\\\n",
    "\\mathcal{L}(\\vec{x}(t))&=\\mathcal{L}(e^{At}\\vec{x}(0)+\\int_0^t e^{A(t-\\tau)}B\\vec{u}(t)d\\tau)\\\\\n",
    "\\mathcal{L}(\\vec{x}(t))&=\\vec{x}(0)\\mathcal{L}(e^{At})+B\\mathcal{L}(e^{At})\\mathcal{L}(\\vec{u}(t)))\\\\\n",
    "\\mathcal{L}(\\vec{x}(t))&=\\mathcal{L}(e^{At})(\\vec{x}(0)+B\\mathcal{L}(\\vec{u}(t)))\\\\\n",
    "\\vec{X}(s)&=(sI-A)^{-1}(\\vec{x}(0)+B\\vec{U}(s))\n",
    "\\end{align}\n",
    "Ahora seguimos con la ecuación de salida. \n",
    "\\begin{align}\n",
    "\\vec{y}(t)=C\\vec{x}(t)+D\\vec{u}(t)\\\\\n",
    "\\mathcal{L}(\\vec{y}(t))=\\mathcal{L}(C\\vec{x}(t)+D\\vec{u}(t))\\\\\n",
    "\\vec{Y}(s)=C\\vec{X}(s)+D\\vec{U}(s)\\\\\n",
    "\\vec{Y}(s)=C(sI-A)^{-1}(\\vec{x}(0)+B\\vec{U}(s))+D\\vec{U}(s)\\\\\n",
    "\\vec{Y}(s)=(C(sI-A)^{-1}B+D)\\vec{U}(s)+C(sI-A)^{-1}\\vec{x}(0)\\\\\n",
    "\\end{align}\n",
    "Como la función de transferencia $\\vec{Y}(s)=\\mathbf{G}(s)\\vec{U}(s)$ no tiene en cuenta el estado inicial, entonces \n",
    "$$\\mathbf{G}(s)=C(sI-A)^{-1}B+D$$\n",
    "\n",
    "\n",
    "\n",
    "## Equivalentes\n",
    "\n",
    "\n",
    "Def [Chen 4.1]\n",
    "\n",
    "Las ecuaciones del espacio de estados\n",
    "$$\\dot{\\vec{x}}(t)=A\\vec{x}(t)+B\\vec{u}(t)$$\n",
    "$$\\vec{y}(t)=C\\vec{x}(t)+D\\vec{u}(t)$$\n",
    "y estas otras\n",
    "$$\\dot{\\vec{\\overline{x}}}(t)=\\overline{A}\\vec{\\overline{x}}(t)+\\overline{B}\\vec{u}(t)$$\n",
    "$$\\vec{y}(t)=\\overline{C}\\vec{\\overline{x}}(t)+\\overline{D}\\vec{u}(t)$$\n",
    "se llaman (algebraicamente equivalentes) *sii* existe una matriz invertible $P$  de tamaño $n \\times n$ tal que\n",
    "\\begin{align}\n",
    "\\overline{A}&=PAP^{-1}\\\\\n",
    "\\overline{B}&=PB\\\\\n",
    "\\overline{C}&=CP^{-1}\\\\\n",
    "\\overline{D}&=D\\\\\n",
    "\\overline{x}&=Px\n",
    "\\end{align}\n",
    "\n",
    "Las dos parejas de ecuaciones del espacio de estados generan la misma matriz de función de transferencia.\n",
    "\n",
    "\\begin{align}\n",
    "\\overline{\\mathbf{G}}(s)\n",
    "&=\\overline{C}(sI-\\overline{A})^{-1}\\overline{B}+\\overline{D}\\\\\n",
    "&=CP^{-1}(sPIP^{-1}-PAP^{-1})^{-1}PB+D\\\\\n",
    "&=CP^{-1}(P(sI-A)P^{-1})^{-1}PB+D\\\\\n",
    "&=CP^{-1}P(sI-A)^{-1}P^{-1}PB+D\\\\\n",
    "&=C(sI-A)^{-1}B+D\\\\\n",
    "&=\\mathbf{G}(s)\n",
    "\\end{align}\n",
    "\n",
    "\n",
    "\n",
    "## Formas canónicas\n",
    "\n",
    "[Para esta sección requiere vectores propios y forma de Jordan](falta)\n",
    "\n",
    "\n"
   ]
  },
  {
   "cell_type": "code",
   "execution_count": null,
   "metadata": {
    "collapsed": true
   },
   "outputs": [],
   "source": []
  },
  {
   "cell_type": "code",
   "execution_count": null,
   "metadata": {
    "collapsed": true
   },
   "outputs": [],
   "source": []
  },
  {
   "cell_type": "markdown",
   "metadata": {},
   "source": [
    "## Ejemplo \n",
    "Chen 2.6\n",
    "\n",
    "<img src=\"chenfig02.08.PNG\">\n",
    "\n",
    "La figura Chen 2.8 consiste en:\n",
    "* Un bloque que se desplaza una distancia \"$y$\", la cual corresponde a la salida de nuestro sistema.\n",
    "* La fricción del bloque con el piso es de tipo viscosa con constante $k_1$, su ecuación es ($f_1=-k_1 \\dot{y}$).\n",
    "* El bloque está conectado al muro por un resorte de constante $k_2$, su ecuación es ($f_2=-k_2 y$).\n",
    "* El bloque tiene una masa $m$, su ecuación es ($f_3=-m\\ddot{y}$).\n",
    "* La entrada del sistema es una fuerza sobre el bloque $u$, la cual se relaciona con las otras fuerzas ($u + f_1 + f_2 + f_3 = 0$). \n",
    "\n",
    "Al remplazar las fuerzas obtenemos la siguiente ecuación diferencial\n",
    "$$u - k_1 \\dot{y} - k_2 y - m \\ddot{y} = 0$$\n",
    "Al realizar la transformada de Laplace se obtiane\n",
    "$$U(s) - k_1 s Y(s) - k_2 Y(s) - m s^2 Y(s) = 0$$\n",
    "al despejar $Y(s)$ \n",
    "$$Y(s)=\\frac{1}{ms^2 + k_1 s + k_2} U(s)$$\n",
    "obtenemos la función de transferencia\n",
    "$$G(s)=\\frac{1}{ms^2 + k_1 s + k_2}$$"
   ]
  },
  {
   "cell_type": "code",
   "execution_count": 3,
   "metadata": {
    "collapsed": false
   },
   "outputs": [
    {
     "data": {
      "text/latex": [
       "$G(s)=$$\\frac{1}{k_{1} s + k_{2} + m s^{2}}$"
      ],
      "text/plain": [
       "<IPython.core.display.Latex object>"
      ]
     },
     "execution_count": 3,
     "metadata": {},
     "output_type": "execute_result"
    }
   ],
   "source": [
    "m,k1,k2=symbols('m k_1 k_2')\n",
    "G=1/(m*s**2 + k1*s + k2)\n",
    "imprimir('G(s)=',G)"
   ]
  },
  {
   "cell_type": "markdown",
   "metadata": {
    "collapsed": true
   },
   "source": [
    "Para determinar las ecuaciones del espacio de estados, se van a usar como variables de estado: el desplazamiento del bloque  ($x_1=y_1$) y su velocidad ($x_2=\\dot{y}$). Por lo tanto las ecuaciones de estado quedan\n",
    "\\begin{align}\n",
    "\\begin{bmatrix}\\dot{x}_1(t) \\\\ \\dot{x}_2(t) \\end{bmatrix}\n",
    "&=\\begin{bmatrix} 0 & 1 \\\\ -k_2/m & -k_1/m \\end{bmatrix}\n",
    "\\begin{bmatrix}x_1(t) \\\\ x_2(t) \\end{bmatrix}\n",
    "+\\begin{bmatrix}0 \\\\ 1/m \\end{bmatrix} u(t)\\\\\n",
    "y(t)&=\\begin{bmatrix} 1 & 0\\end{bmatrix}\n",
    "\\begin{bmatrix}x_1(t) \\\\ x_2(t) \\end{bmatrix}\n",
    "+\\begin{bmatrix}0  \\end{bmatrix} u(t)\n",
    "\\end{align}\n",
    " \n"
   ]
  },
  {
   "cell_type": "code",
   "execution_count": 10,
   "metadata": {
    "collapsed": false
   },
   "outputs": [
    {
     "data": {
      "text/latex": [
       "$A=$$\\left[\\begin{matrix}0 & 1\\\\- \\frac{k_{2}}{m} & - \\frac{k_{1}}{m}\\end{matrix}\\right]$$, B=$$\\left[\\begin{matrix}0\\\\\\frac{1}{m}\\end{matrix}\\right]$$, C=$$\\left[\\begin{matrix}1 & 0\\end{matrix}\\right]$$, D=$$\\left[\\begin{matrix}0\\end{matrix}\\right]$"
      ],
      "text/plain": [
       "<IPython.core.display.Latex object>"
      ]
     },
     "execution_count": 10,
     "metadata": {},
     "output_type": "execute_result"
    }
   ],
   "source": [
    "m,k1,k2=symbols('m k_1 k_2')\n",
    "A=Matrix([[0,1],[-k2/m,-k1/m]])\n",
    "B=Matrix([0,1/m])\n",
    "C=Matrix([[1,0]])\n",
    "D=Matrix([0])\n",
    "imprimir('A=',A,', B=',B,', C=',C,', D=',D)"
   ]
  },
  {
   "cell_type": "code",
   "execution_count": 15,
   "metadata": {
    "collapsed": false
   },
   "outputs": [
    {
     "data": {
      "text/latex": [
       "$G(s)=$$\\left[\\begin{matrix}\\frac{1}{k_{1} s + k_{2} + m s^{2}}\\end{matrix}\\right]$"
      ],
      "text/plain": [
       "<IPython.core.display.Latex object>"
      ]
     },
     "execution_count": 15,
     "metadata": {},
     "output_type": "execute_result"
    }
   ],
   "source": [
    "Gest=C*(s*eye(2)-A).inv()*B+D\n",
    "Gest=Gest.applyfunc(cancel)\n",
    "imprimir('G(s)=',Gest)"
   ]
  },
  {
   "cell_type": "markdown",
   "metadata": {},
   "source": [
    "La cual corresponde a la encontrada previamente."
   ]
  },
  {
   "cell_type": "markdown",
   "metadata": {},
   "source": [
    "Al sustituir por valores se obtiene "
   ]
  },
  {
   "cell_type": "code",
   "execution_count": 4,
   "metadata": {
    "collapsed": false
   },
   "outputs": [
    {
     "data": {
      "text/latex": [
       "$G(s)=$$\\frac{1}{s^{2} + 3 s + 2}$"
      ],
      "text/plain": [
       "<IPython.core.display.Latex object>"
      ]
     },
     "execution_count": 4,
     "metadata": {},
     "output_type": "execute_result"
    }
   ],
   "source": [
    "G=G.subs(m,1)\n",
    "G=G.subs(k1,3)\n",
    "G=G.subs(k2,2)\n",
    "imprimir('G(s)=',G)"
   ]
  },
  {
   "cell_type": "code",
   "execution_count": 5,
   "metadata": {
    "collapsed": false,
    "scrolled": true
   },
   "outputs": [
    {
     "data": {
      "text/latex": [
       "$G(s)=$$- \\frac{1}{s + 2} + \\frac{1}{s + 1}$"
      ],
      "text/plain": [
       "<IPython.core.display.Latex object>"
      ]
     },
     "execution_count": 5,
     "metadata": {},
     "output_type": "execute_result"
    }
   ],
   "source": [
    "Gfp=apart(G)\n",
    "imprimir('G(s)=',Gfp)"
   ]
  },
  {
   "cell_type": "markdown",
   "metadata": {},
   "source": [
    "y la función impulso es"
   ]
  },
  {
   "cell_type": "code",
   "execution_count": 6,
   "metadata": {
    "collapsed": false
   },
   "outputs": [
    {
     "data": {
      "text/latex": [
       "$g(t)=$$e^{- t} \\theta\\left(t\\right) - e^{- 2 t} \\theta\\left(t\\right)$"
      ],
      "text/plain": [
       "<IPython.core.display.Latex object>"
      ]
     },
     "execution_count": 6,
     "metadata": {},
     "output_type": "execute_result"
    }
   ],
   "source": [
    "g=inverse_laplace_transform(Gfp,s,t)\n",
    "imprimir('g(t)=',expand(g))"
   ]
  }
 ],
 "metadata": {
  "kernelspec": {
   "display_name": "Python 3",
   "language": "python",
   "name": "python3"
  },
  "language_info": {
   "codemirror_mode": {
    "name": "ipython",
    "version": 3
   },
   "file_extension": ".py",
   "mimetype": "text/x-python",
   "name": "python",
   "nbconvert_exporter": "python",
   "pygments_lexer": "ipython3",
   "version": "3.6.0"
  }
 },
 "nbformat": 4,
 "nbformat_minor": 2
}
