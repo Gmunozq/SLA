{
 "cells": [
  {
   "cell_type": "markdown",
   "metadata": {},
   "source": [
    "# Introducción a los sistemas\n",
    "\n",
    "## Señales\n",
    "En este curso, una __señal continua__ $h$ es una función, en donde:\n",
    "* el dominio es el intervalo $[t_0, \\infty)$, y para este dominio usaremos la variable $t$ representando el tiempo. Denotamos $t_0=\\text{DoMin}(h)$.\n",
    "* El codominio es el conjunto de los números reales, $\\mathbb{R}$, el cual puede representar alguna magnitud física como corriente, voltaje, presión, entre muchos otros. \n",
    "\n",
    "Es de resaltar que una 'señal continua' no hace referencia a que la función sea continua sino al dominio.\n",
    "\n",
    "Una __señal discreta__ $h$, se diferencia de una señal continua en que el dominio se restringe a un conjunto de los números enteros, $\\{k_0, k_0+1, \\ldots\\}$. Para enfatizar que la señal es discreta se cambia la variable $t$ por $k$.\n",
    "\n",
    "Es sencillo ver que las señales con el mismo dominio forman un [espacio vectorial] con las operaciones usuales."
   ]
  },
  {
   "cell_type": "markdown",
   "metadata": {},
   "source": [
    "## Sistemas\n",
    "\n",
    "<img src=\"chenfig02.01.PNG\"/>\n",
    "\n",
    "En este curso, un __sistema__ $f$ es una función $\\vec{y}=f(\\vec{u},x(t_0))$, en donde:\n",
    "  * $\\vec{u}$ es un vector de __señales de entrada__ que tienen el mismo dominio $[t_0, \\infty)$.\n",
    "$$ \\vec{u} =\\begin{bmatrix} u_0\\\\ u_1\\\\ \\vdots \\\\ u_{p-1}\\end{bmatrix}, \\ \\ \\ \\ \\  \\vec{u}(t) =\\begin{bmatrix} u_0(t)\\\\ u_1(t)\\\\ \\vdots \\\\ u_{p-1}(t)\\end{bmatrix} \\in \\mathbb{R}^p$$\n",
    "  * $x(t_0)$ es un elemento del __conjunto de estados posibles__ $X$. Este elemento $x(t_0)$ se denomina el __estado inicial__ del sistema en $t=t_0$. \n",
    "  * $\\vec{y}$ es un vector de __señales de salida__ con el mismo dominio de las señales de entrada $[t_0, \\infty)$.\n",
    "$$ \\vec{y} =\\begin{bmatrix} y_0\\\\ y_1\\\\ \\vdots \\\\ y_{q-1}\\end{bmatrix}, \\ \\ \\ \\ \\  \\vec{y}(t) =\\begin{bmatrix} y_0(t)\\\\ y_1(t)\\\\ \\vdots \\\\ y_{q-1}(t)\\end{bmatrix} \\in \\mathbb{R}^q$$\n",
    "  \n",
    "De manera condensada, un sistema $\\vec{y}=f(\\vec{u},x(t_0))$, se representa de la siguente forma\n",
    "$$\\left. \\begin{aligned}\n",
    "&x(t_0) \\\\\n",
    "&\\vec{u}(t)\n",
    "\\end{aligned}\\right\\} \n",
    "\\stackrel{f}{\\rightarrow} \\vec{y}(t), \\ \\ \\ \\ \\text{ con } t_0 \\leq t$$\n",
    "\n",
    "\n",
    "\n",
    "\n",
    "## MI, MO, SI, SO\n",
    "Un __sistema SI__ (__sistema SO__) sólo tiene una señal de entrada $u(t)$ (de salida $y(t)$). Por ejemplo, un sistema SISO es\n",
    "$$y(t)=\\frac{d(u(t))}{dt}$$\n",
    "Un __sistema MI__ (__sistema MO__) tiene varias señal de entrada $\\vec{u}(t)$ (de salida $\\vec{y}(t)$), denotadas como un vector. Por ejemplo, un sistema MIMO es\n",
    "$$ \\vec{y}(t) = \\begin{bmatrix} a_{11} & a_{12} \\\\ a_{21} & a_{22} \\end{bmatrix} \\vec{u}(t) $$\n",
    "En donde $\\vec{u}(t)=\\begin{bmatrix}u_0(t) \\\\ u_1(t)\\end{bmatrix}$\n",
    "La siguente figura muestra un sistema MISO\n",
    "<img src=\"sis_mi.PNG\"/>\n",
    "La siguente figura muestra un sistema SIMO\n",
    "<img src=\"sis_mo.PNG\"/>\n",
    "\n",
    "## Causalidad\n",
    "En los sistemas físicos la salida del sistema depende de su entrada actual y las entradas anteriores pero núnca de las entradas futuras. Esta condición se llama __causalidad__. Si el sistema sólo depende de la entrada actual se llama __sin memoria__ (*__memory less__*). Por ejemplo, \n",
    "* $y(t)=u(t)$ es causal y sin memoria.\n",
    "* $y(t)=u(t-1)$ es causal y con memoria.\n",
    "* $y(t)=u(t+1)$ no es causal.\n",
    "\n",
    "\n",
    "## Linealidad\n",
    "Supongamos que tenemos un sistema para el cual:\n",
    "* el estado inicial $x_0(t_0)$ y la entrada $u_0(t), t \\geq t_0$ producen la salida $y_0(t)$\n",
    "* el estado inicial $x_1(t_0)$ y la entrada $u_1(t), t \\geq t_0$ producen la salida $y_1(t)$\n",
    "\n",
    "Un __sistema lineal__ cumple las siguentes dos condiciones:\n",
    "* el estado inicial $x_0(t_0)+x_1(t_0)$ y la entrada $u_0(t)+u_1(t), t \\geq t_0$ producen la salida $y_0(t)+y_1(t)$\n",
    "* el estado inicial $\\alpha x_0(t_0)$ y la entrada $ \\alpha u_0(t), t \\geq t_0$ producen la salida $\\alpha y_0(t)$\n",
    "\n",
    "donde $\\alpha$ es una constante real.\n",
    "<img src=\"chendeflin.PNG\"/>\n",
    "\n",
    "\n",
    "<img src=\"sis_lin.PNG\"/>\n",
    "\n",
    "## Estado de un sistema\n",
    "Si el __conjunto de estados posibles__ $X$ de un sistema lineal es  $\\mathbb{R}^n$ (con $n \\in \\mathbb{N}$) se dice que el sistema es __concentrado__ (**_lumped_**), de lo contrario se dice que el sistema es __distribuido__. Por ejemplo, en el sistema de retardo de unidad de tiempo definido por $$ y(t)=u(t-1)$$ el estado no se puede representar por un vector finito.\n",
    "\n",
    "Un sistema que no requiere estados es un sistema __sin memoria__.\n"
   ]
  },
  {
   "cell_type": "markdown",
   "metadata": {
    "collapsed": true
   },
   "source": [
    "Ejercicios:\n",
    "Para los siguientes sistemas, determine cada una de las características anteriores que cumple:\n",
    "* Una resistencia, donde la entrada es la corriente y la salida es el voltaje.\n",
    "* Un condensador, donde la entrada es la corriente y la salida es el voltaje.\n",
    "* El sistema de la figura\n",
    "<img src=\"chenfig02.02.PNG\"/>\n",
    "* Un taxímetro digital.\n",
    "* Un girasol, en su movimiento de seguir el sol.\n"
   ]
  }
 ],
 "metadata": {
  "kernelspec": {
   "display_name": "Python 3",
   "language": "python",
   "name": "python3"
  },
  "language_info": {
   "codemirror_mode": {
    "name": "ipython",
    "version": 3
   },
   "file_extension": ".py",
   "mimetype": "text/x-python",
   "name": "python",
   "nbconvert_exporter": "python",
   "pygments_lexer": "ipython3",
   "version": "3.6.0"
  }
 },
 "nbformat": 4,
 "nbformat_minor": 2
}
