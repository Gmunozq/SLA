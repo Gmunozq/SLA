{
 "cells": [
  {
   "cell_type": "code",
   "execution_count": null,
   "metadata": {
    "collapsed": true
   },
   "outputs": [],
   "source": [
    "from sympy import * \n",
    "import IPython\n",
    "from ubogsla18p import *\n",
    "s,t=symbols('s t')"
   ]
  },
  {
   "cell_type": "markdown",
   "metadata": {},
   "source": [
    "# Linealización\n",
    "Chen 2.4\n",
    "\n",
    "Algunos sistemas no lineales descritos de la forma\n",
    "$$\\dot{\\vec{x}}(t)=\\vec{h}\\big( \\vec{x}(t),\\vec{u}(t),t \\big)$$\n",
    "$$\\vec{y}(t)=\\vec{f}\\big( \\vec{x}(t),\\vec{u}(t),t \\big)$$\n",
    "pueden ser aproximados por un sistema lieneal, para esto supondremos una función de entrada $u_a(t)$ y un estado inicial $x_a(t)$ que cumplen con la ecuación \n",
    "$$\\dot{\\vec{x}}_a(t)=\\vec{h}\\big( \\vec{x}_a(t),\\vec{u}_a(t),t \\big)$$\n",
    "Ahora suponga que la entrada es alterada levemente de la siguente forma $\\vec{u}_a(t) + \\vec{u}_b(t)$ y si \n",
    "* el estado queda alterado levemente $\\vec{x}_a(t) + \\vec{x}_b(t)$ \n",
    "* $\\vec{h}\\big( \\vec{x}_a(t)+\\vec{x}_b(t),\\vec{u}_a(t)+\\vec{u}_b(t),t \\big)=\\vec{h}\\big( \\vec{x}_a(t),\\vec{u}_a(t),t \\big)+\\frac{\\partial \\vec{h}}{\\partial \\vec{x}}\\vec{x}_b+\\frac{\\partial \\vec{h}}{\\partial \\vec{u}}\\vec{u}_b + \\cdots$\n",
    "\n",
    "en donde, para $\\vec{h}=\\begin{bmatrix}h_0\\\\h_1\\\\h_2\\end{bmatrix}$, $\\vec{x}=\\begin{bmatrix}x_0\\\\x_1\\\\x_2\\end{bmatrix}$, $\\vec{u}=\\begin{bmatrix}u_0\\\\u_1\\end{bmatrix}$ y los Jacobianos\n",
    "$$A(t)=\\frac{\\partial \\vec{h}}{\\partial \\vec{x}}=\n",
    "\\begin{bmatrix}\n",
    "\\frac{\\partial h_0}{\\partial x_0} & \\frac{\\partial h_0}{\\partial x_1} & \\frac{\\partial h_0}{\\partial x_2}  \\\\\n",
    "\\frac{\\partial h_1}{\\partial x_0} & \\frac{\\partial h_1}{\\partial x_1} & \\frac{\\partial h_1}{\\partial x_2}  \\\\\n",
    "\\frac{\\partial h_2}{\\partial x_0} & \\frac{\\partial h_2}{\\partial x_1} & \\frac{\\partial h_2}{\\partial x_2}  \\\\\n",
    "\\end{bmatrix}$$\n",
    "$$B(t)=\\frac{\\partial \\vec{h}}{\\partial \\vec{u}}=\n",
    "\\begin{bmatrix}\n",
    "\\frac{\\partial h_0}{\\partial u_0} & \\frac{\\partial h_0}{\\partial u_1}  \\\\\n",
    "\\frac{\\partial h_1}{\\partial u_0} & \\frac{\\partial h_1}{\\partial u_1}  \\\\\n",
    "\\frac{\\partial h_2}{\\partial u_0} & \\frac{\\partial h_2}{\\partial u_1} \\\\\n",
    "\\end{bmatrix}$$\n",
    "\n",
    "Entonces la ecuación de estado no lineal $\\dot{\\vec{x}}(t)=\\vec{h}\\big( \\vec{x}(t),\\vec{u}(t),t \\big)$ se puede aproximar (en $\\vec{x}_a$ con $\\vec{u}_a$) a la ecuación lineal\n",
    "$$\\dot{\\vec{x}}_b(t)=A(t)\\vec{x}_b+B(t)\\vec{u}_b$$\n",
    "\n",
    "Algo similar se puede realizar con $\\vec{y}(t)=\\vec{f}\\big( \\vec{x}(t),\\vec{u}(t),t \\big)$.\n",
    "\n"
   ]
  },
  {
   "cell_type": "markdown",
   "metadata": {},
   "source": [
    "## Ejemplo \n",
    "Chen 2.6\n",
    "\n",
    "<img src=\"chenfig02.08.PNG\">\n",
    "\n",
    "La figura Chen 2.8 consiste en:\n",
    "* Un bloque que se desplaza una distancia \"$y$\", la cual cooresponde a la salida de nuestro sistema.\n",
    "* La fricción del bloque con el piso es de tipo viscosa con constante $k_1$, su ecuación es ($f_1=-k_1 \\dot{y}$).\n",
    "* El bloque está conectado al muro por un resorte de constante $k_2$, su ecuación es ($f_2=-k_2 y$).\n",
    "* El bloque tiene una masa $m$, su ecuación es ($f_3=-m\\ddot{y}$).\n",
    "* La entrada del sistema es una fuerza sobre el bloque $u$, la cual se relaciona con las otras fuerzas ($u + f_1 + f_2 + f_3 = 0$). \n",
    "\n",
    "Al remplazar las fuerzas obtenemos la siguiente ecuación diferencial\n",
    "$$u - k_1 \\dot{y} - k_2 y - m \\ddot{y} = 0$$\n",
    "Al realizar la transformada de Laplace se obtiane\n",
    "$$U(s) - k_1 s Y(s) - k_2 Y(s) - m s^2 Y(s) = 0$$\n",
    "al despejar $Y(s)$ \n",
    "$$Y(s)=\\frac{1}{ms^2 + k_1 s + k_2} U(s)$$\n",
    "obtenemos la función de transferencia\n",
    "$$G(s)=\\frac{1}{ms^2 + k_1 s + k_2}$$"
   ]
  },
  {
   "cell_type": "code",
   "execution_count": null,
   "metadata": {
    "collapsed": false
   },
   "outputs": [],
   "source": [
    "m,k1,k2=symbols('m k_1 k_2')\n",
    "G=1/(m*s**2 + k1*s + k2)\n",
    "imprimir('G(s)=',G)"
   ]
  },
  {
   "cell_type": "markdown",
   "metadata": {},
   "source": [
    "y la función impulso es"
   ]
  },
  {
   "cell_type": "code",
   "execution_count": null,
   "metadata": {
    "collapsed": true
   },
   "outputs": [],
   "source": [
    "inverse_laplace_transform(G,s,t)"
   ]
  },
  {
   "cell_type": "code",
   "execution_count": null,
   "metadata": {
    "collapsed": true
   },
   "outputs": [],
   "source": [
    "m,k1,k2=symbols('m k_1 k_2')\n",
    "y=1/"
   ]
  },
  {
   "cell_type": "code",
   "execution_count": null,
   "metadata": {
    "collapsed": false
   },
   "outputs": [],
   "source": [
    "m,k1,k2=symbols('m k_1 k_2')\n",
    "u=Function('u')(t)\n",
    "y=Function('f')(t)\n",
    "dy=y.diff(t)\n",
    "ddy=dy.diff(t)\n",
    "g=u-k1*dy-k2*y-m*ddy\n",
    "laplace_transform(g,t,s)"
   ]
  },
  {
   "cell_type": "code",
   "execution_count": null,
   "metadata": {
    "collapsed": false
   },
   "outputs": [],
   "source": []
  }
 ],
 "metadata": {
  "kernelspec": {
   "display_name": "Python 3",
   "language": "python",
   "name": "python3"
  },
  "language_info": {
   "codemirror_mode": {
    "name": "ipython",
    "version": 3
   },
   "file_extension": ".py",
   "mimetype": "text/x-python",
   "name": "python",
   "nbconvert_exporter": "python",
   "pygments_lexer": "ipython3",
   "version": "3.6.0"
  }
 },
 "nbformat": 4,
 "nbformat_minor": 2
}
