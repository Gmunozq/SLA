{
 "cells": [
  {
   "cell_type": "code",
   "execution_count": 1,
   "metadata": {
    "collapsed": true
   },
   "outputs": [],
   "source": [
    "from sympy import * \n",
    "import IPython\n",
    "from ubogsla18p import *\n",
    "s=symbols('s')"
   ]
  },
  {
   "cell_type": "markdown",
   "metadata": {},
   "source": [
    "# Realización de las ecuaciones del espacio de estados\n",
    "\n",
    "Un sistema LTI con parámetros concentrados tiene una función de transferencia racional, la cual puede ser expresada como $G(s)=N(s)/D(s)$, donde $N(s)$ y $D(s)$  son polinomios de s. Se usará $\\text{deg}(N(s))$ y $\\text{deg}(D(s))$ para indicar el grado del polinomio, los cuales permiten clasificar los polinomios de la siguiente forma:\n",
    "\\begin{align}\n",
    "G(s) \\text{ es propia} & \\Leftrightarrow  \\text{deg}\\big(D(s)\\big) \\geq \\text{deg}\\big(N(s)\\big)  \\Leftrightarrow  G(\\infty) \\text{ es constante}\\\\\n",
    "G(s) \\text{ es estrictamente propia } & \\Leftrightarrow  \\text{deg}\\big(D(s)\\big) > \\text{deg}\\big(N(s)\\big)  \\Leftrightarrow  G(\\infty)=0\\\\\n",
    "G(s) \\text{ es bipropia } & \\Leftrightarrow \\text{deg}\\big(D(s)\\big) = \\text{deg}\\big(N(s)\\big)  \\Leftrightarrow  G(\\infty) \\text{ constante no cero}\\\\\n",
    "G(s) \\text{ es impropia } & \\Leftrightarrow \\text{deg}\\big(D(s)\\big) < \\text{deg}\\big(N(s)\\big) \\Leftrightarrow |G(\\infty)| = \\infty\\\\\n",
    "\\end{align}\n",
    "\n",
    "Un número complejo $\\lambda$ se llama __polo__ de la función de transferencia propia $G$ si $|G(\\lambda)|=\\infty$. Se llama __cero__ si $G(\\lambda)=0$.\n",
    "\n",
    "Se dice que una matriz de funciones de transferencia $\\mathbf{G}(s)$:\n",
    "* es una __matriz racional propia__ *sii* cada entrada de la matriz $G_{ij}(s)$ es una función de transferencia racional propia *sii* $\\mathbf{G}(\\infty)$ es una matriz de constantes,\n",
    "* es una matriz racional estrictamente propia *sii* cada entrada de la matriz $G_{ij}(s)$ es una función de transferencia racional estrictamente propia *sii* $\\mathbf{G}(\\infty)$ es una matriz de ceros,\n",
    "* es una matriz racional bipropia *sii* $\\mathbf{G}(s)$ y $\\mathbf{G}^{-1}(s)$ son matrices racionales propias.\n",
    "\n",
    "Un __polo__ de una matriz de funciones de transferencia $\\mathbf{G}(s)$ es un polo de alguna de sus funciones de transferencia $G_{ij}(s)$. \n",
    "\n",
    "Se entiende por realización de $\\mathbf{G}(s)$ el encontrar las matrices $A$, $B$, $C$ y $D$ tales que\n",
    "$$\\dot{X}(s)=AX(s)+BU(s)$$\n",
    "$$Y(s)=CX(s)+DU(s)$$\n",
    "\n",
    "Ejemplo Chen 4.6 parte 1  \n",
    "Muestre que una realización de \n",
    "$$\\mathbf{G}(s)=\\begin{bmatrix}\\frac{4 s - 10}{2 s + 1} & \\frac{3}{s + 2}\\\\ \\frac{1}{\\left(s + 2\\right) \\left(2 s + 1\\right)} & \\frac{s + 1}{\\left(s + 2\\right)^{2}}\\end{bmatrix}$$\n",
    "está dada por\n",
    "* $\\dot{X}(s)=\\begin{bmatrix}\n",
    "-4.5 I_2 & -6 I_2 & -2 I_2 \\\\ \n",
    "I_2 & 0_2  & 0_2 \\\\\n",
    "0_2 & I_2 &  0_2 \\\\\n",
    "\\end{bmatrix}X(s) +\n",
    "\\begin{bmatrix}\n",
    "I_2 \\\\  0_2 \\\\ 0_2\n",
    "\\end{bmatrix}U(s)$\n",
    "* $Y(s)=\\begin{bmatrix}\n",
    "N_1 & N_2 & N_3 \n",
    "\\end{bmatrix}X(s)+DU(s)$\n",
    "\n",
    "En donde \n",
    "$I_2=\\begin{bmatrix} 1  & 0 \\\\ 0 & 1 \\end{bmatrix}$, \n",
    "$0_2=\\begin{bmatrix} 0  & 0 \\\\ 0 & 0 \\end{bmatrix} $,\n",
    "$N_1=\\begin{bmatrix} -6  & 3 \\\\ 0 & 1 \\end{bmatrix} $,\n",
    "$N_2=\\begin{bmatrix} -24  & 7.5 \\\\ 0.5 & 1.5 \\end{bmatrix} $,\n",
    "$N_3=\\begin{bmatrix} -24  & 3 \\\\ 1 & 0.5 \\end{bmatrix} $,\n",
    "$D=\\begin{bmatrix} 2  & 0 \\\\ 0 & 0 \\end{bmatrix} $,\n",
    "* La matriz $A$ es de $6 \\times 6$, \n",
    "* La matriz $B$ es de $6 \\times 2$, \n",
    "* La matriz $C$ es de $2 \\times 6$, \n",
    "* La matriz $D$ es de $2 \\times 2$."
   ]
  },
  {
   "cell_type": "code",
   "execution_count": 2,
   "metadata": {
    "collapsed": false
   },
   "outputs": [
    {
     "data": {
      "text/latex": [
       "$0_2=$$\\left[\\begin{matrix}0 & 0\\\\0 & 0\\end{matrix}\\right]$$, I_2=$$\\left[\\begin{matrix}1 & 0\\\\0 & 1\\end{matrix}\\right]$$, D=$$\\left[\\begin{matrix}2 & 0\\\\0 & 0\\end{matrix}\\right]$"
      ],
      "text/plain": [
       "<IPython.core.display.Latex object>"
      ]
     },
     "execution_count": 2,
     "metadata": {},
     "output_type": "execute_result"
    }
   ],
   "source": [
    "O2=zeros(2,2)\n",
    "I2=eye(2)\n",
    "D=Matrix([[2,0],[0,0]])\n",
    "\n",
    "imprimir('0_2=',O2,', I_2=',I2,', D=',D)"
   ]
  },
  {
   "cell_type": "code",
   "execution_count": 3,
   "metadata": {
    "collapsed": false
   },
   "outputs": [
    {
     "data": {
      "text/latex": [
       "$N_1=$$\\left[\\begin{matrix}-6 & 3\\\\0 & 1\\end{matrix}\\right]$$, N_2=$$\\left[\\begin{matrix}-24 & 7.5\\\\0.5 & 1.5\\end{matrix}\\right]$$, N_3=$$\\left[\\begin{matrix}-24 & 3\\\\1 & 0.5\\end{matrix}\\right]$"
      ],
      "text/plain": [
       "<IPython.core.display.Latex object>"
      ]
     },
     "execution_count": 3,
     "metadata": {},
     "output_type": "execute_result"
    }
   ],
   "source": [
    "N1=Matrix([[-6,3],[0,1]])\n",
    "N2=Matrix([[-24,7.5],[0.5, 1.5]])\n",
    "N3=Matrix([[-24, 3],[1, 0.5]])\n",
    "\n",
    "imprimir('N_1=',N1,', N_2=',N2,', N_3=',N3)"
   ]
  },
  {
   "cell_type": "code",
   "execution_count": 4,
   "metadata": {
    "collapsed": false
   },
   "outputs": [
    {
     "data": {
      "text/latex": [
       "$A=$$\\left[\\begin{matrix}-4.5 & 0 & -6 & 0 & -2 & 0\\\\0 & -4.5 & 0 & -6 & 0 & -2\\\\1 & 0 & 0 & 0 & 0 & 0\\\\0 & 1 & 0 & 0 & 0 & 0\\\\0 & 0 & 1 & 0 & 0 & 0\\\\0 & 0 & 0 & 1 & 0 & 0\\end{matrix}\\right]$"
      ],
      "text/plain": [
       "<IPython.core.display.Latex object>"
      ]
     },
     "execution_count": 4,
     "metadata": {},
     "output_type": "execute_result"
    }
   ],
   "source": [
    "A=BlockMatrix([\n",
    "    [-4.5*I2,-6*I2,-2*I2],\n",
    "    [I2     ,O2   ,O2   ],\n",
    "    [O2     ,I2   ,O2   ]\n",
    "    ]).as_explicit()\n",
    "\n",
    "\n",
    "imprimir('A=',A)"
   ]
  },
  {
   "cell_type": "code",
   "execution_count": 5,
   "metadata": {
    "collapsed": false
   },
   "outputs": [
    {
     "data": {
      "text/latex": [
       "$B=$$\\left[\\begin{matrix}1 & 0\\\\0 & 1\\\\0 & 0\\\\0 & 0\\\\0 & 0\\\\0 & 0\\end{matrix}\\right]$"
      ],
      "text/plain": [
       "<IPython.core.display.Latex object>"
      ]
     },
     "execution_count": 5,
     "metadata": {},
     "output_type": "execute_result"
    }
   ],
   "source": [
    "B=BlockMatrix([\n",
    "    [I2],\n",
    "    [O2],\n",
    "    [O2]\n",
    "    ]).as_explicit()\n",
    "\n",
    "imprimir('B=',B)"
   ]
  },
  {
   "cell_type": "code",
   "execution_count": 6,
   "metadata": {
    "collapsed": false
   },
   "outputs": [
    {
     "data": {
      "text/latex": [
       "$C=$$\\left[\\begin{matrix}-6 & 3 & -24 & 7.5 & -24 & 3\\\\0 & 1 & 0.5 & 1.5 & 1 & 0.5\\end{matrix}\\right]$"
      ],
      "text/plain": [
       "<IPython.core.display.Latex object>"
      ]
     },
     "execution_count": 6,
     "metadata": {},
     "output_type": "execute_result"
    }
   ],
   "source": [
    "C=BlockMatrix([[N1     ,N2   ,N3   ]\n",
    "    ]).as_explicit()\n",
    "imprimir('C=',C)"
   ]
  },
  {
   "cell_type": "code",
   "execution_count": 7,
   "metadata": {
    "collapsed": false
   },
   "outputs": [
    {
     "data": {
      "text/latex": [
       "$sI-A=$$\\left[\\begin{matrix}s + 4.5 & 0 & 6 & 0 & 2 & 0\\\\0 & s + 4.5 & 0 & 6 & 0 & 2\\\\-1 & 0 & s & 0 & 0 & 0\\\\0 & -1 & 0 & s & 0 & 0\\\\0 & 0 & -1 & 0 & s & 0\\\\0 & 0 & 0 & -1 & 0 & s\\end{matrix}\\right]$"
      ],
      "text/plain": [
       "<IPython.core.display.Latex object>"
      ]
     },
     "execution_count": 7,
     "metadata": {},
     "output_type": "execute_result"
    }
   ],
   "source": [
    "M1=s*eye(6)-A\n",
    "imprimir('sI-A=',M1)"
   ]
  },
  {
   "cell_type": "code",
   "execution_count": 8,
   "metadata": {
    "collapsed": false,
    "scrolled": true
   },
   "outputs": [
    {
     "data": {
      "text/latex": [
       "$(sU-A)^{-1}=$$\\left[\\begin{matrix}\\frac{1.0 s^{2}}{1.0 s^{3} + 4.5 s^{2} + 6.0 s + 2.0} & 0 & - \\frac{6.0 s + 2.0}{1.0 s^{3} + 4.5 s^{2} + 6.0 s + 2.0} & 0 & - \\frac{2.0 s}{1.0 s^{3} + 4.5 s^{2} + 6.0 s + 2.0} & 0\\\\0 & \\frac{1.0 s^{2}}{1.0 s^{3} + 4.5 s^{2} + 6.0 s + 2.0} & 0 & - \\frac{6.0 s + 2.0}{1.0 s^{3} + 4.5 s^{2} + 6.0 s + 2.0} & 0 & - \\frac{2.0 s}{1.0 s^{3} + 4.5 s^{2} + 6.0 s + 2.0}\\\\\\frac{1.0 s}{1.0 s^{3} + 4.5 s^{2} + 6.0 s + 2.0} & 0 & \\frac{1.0 s^{2} + 4.5 s}{1.0 s^{3} + 4.5 s^{2} + 6.0 s + 2.0} & 0 & - \\frac{2.0}{1.0 s^{3} + 4.5 s^{2} + 6.0 s + 2.0} & 0\\\\0 & \\frac{1.0 s}{1.0 s^{3} + 4.5 s^{2} + 6.0 s + 2.0} & 0 & \\frac{1.0 s^{2} + 4.5 s}{1.0 s^{3} + 4.5 s^{2} + 6.0 s + 2.0} & 0 & - \\frac{2.0}{1.0 s^{3} + 4.5 s^{2} + 6.0 s + 2.0}\\\\\\frac{1.0}{1.0 s^{3} + 4.5 s^{2} + 6.0 s + 2.0} & 0 & \\frac{1.0 s + 4.5}{1.0 s^{3} + 4.5 s^{2} + 6.0 s + 2.0} & 0 & \\frac{1.0 s^{2} + 4.5 s + 6.0}{1.0 s^{3} + 4.5 s^{2} + 6.0 s + 2.0} & 0\\\\0 & \\frac{1.0}{1.0 s^{3} + 4.5 s^{2} + 6.0 s + 2.0} & 0 & \\frac{1.0 s + 4.5}{1.0 s^{3} + 4.5 s^{2} + 6.0 s + 2.0} & 0 & \\frac{1.0 s^{2} + 4.5 s + 6.0}{1.0 s^{3} + 4.5 s^{2} + 6.0 s + 2.0}\\end{matrix}\\right]$"
      ],
      "text/plain": [
       "<IPython.core.display.Latex object>"
      ]
     },
     "execution_count": 8,
     "metadata": {},
     "output_type": "execute_result"
    }
   ],
   "source": [
    "M2=M1.inv()\n",
    "M2=M2.applyfunc(cancel)#simplifica cada entrada de la matriz\n",
    "imprimir('(sU-A)^{-1}=',M2)"
   ]
  },
  {
   "cell_type": "markdown",
   "metadata": {},
   "source": [
    "$Z=(sU-A)^{-1}_{6 \\times 6}B_{6 \\times 2}$"
   ]
  },
  {
   "cell_type": "code",
   "execution_count": 9,
   "metadata": {
    "collapsed": false
   },
   "outputs": [
    {
     "data": {
      "text/latex": [
       "$Z=(sU-A)^{-1}B=$$\\left[\\begin{matrix}\\frac{1.0 s^{2}}{1.0 s^{3} + 4.5 s^{2} + 6.0 s + 2.0} & 0\\\\0 & \\frac{1.0 s^{2}}{1.0 s^{3} + 4.5 s^{2} + 6.0 s + 2.0}\\\\\\frac{1.0 s}{1.0 s^{3} + 4.5 s^{2} + 6.0 s + 2.0} & 0\\\\0 & \\frac{1.0 s}{1.0 s^{3} + 4.5 s^{2} + 6.0 s + 2.0}\\\\\\frac{1.0}{1.0 s^{3} + 4.5 s^{2} + 6.0 s + 2.0} & 0\\\\0 & \\frac{1.0}{1.0 s^{3} + 4.5 s^{2} + 6.0 s + 2.0}\\end{matrix}\\right]$"
      ],
      "text/plain": [
       "<IPython.core.display.Latex object>"
      ]
     },
     "execution_count": 9,
     "metadata": {},
     "output_type": "execute_result"
    }
   ],
   "source": [
    "Z=M2*B\n",
    "Z=Z.applyfunc(cancel)#simplifica cada entrada de la matriz\n",
    "imprimir('Z=(sU-A)^{-1}B=',Z)"
   ]
  },
  {
   "cell_type": "code",
   "execution_count": 10,
   "metadata": {
    "collapsed": false
   },
   "outputs": [
    {
     "data": {
      "text/latex": [
       "$Z_1=$$\\left[\\begin{matrix}\\frac{1.0 s^{2}}{1.0 s^{3} + 4.5 s^{2} + 6.0 s + 2.0} & 0\\\\0 & \\frac{1.0 s^{2}}{1.0 s^{3} + 4.5 s^{2} + 6.0 s + 2.0}\\end{matrix}\\right]$$, Z_2=$$\\left[\\begin{matrix}\\frac{1.0 s}{1.0 s^{3} + 4.5 s^{2} + 6.0 s + 2.0} & 0\\\\0 & \\frac{1.0 s}{1.0 s^{3} + 4.5 s^{2} + 6.0 s + 2.0}\\end{matrix}\\right]$$, Z_3=$$\\left[\\begin{matrix}\\frac{1.0}{1.0 s^{3} + 4.5 s^{2} + 6.0 s + 2.0} & 0\\\\0 & \\frac{1.0}{1.0 s^{3} + 4.5 s^{2} + 6.0 s + 2.0}\\end{matrix}\\right]$"
      ],
      "text/plain": [
       "<IPython.core.display.Latex object>"
      ]
     },
     "execution_count": 10,
     "metadata": {},
     "output_type": "execute_result"
    }
   ],
   "source": [
    "Z1=Z[0:2,:].applyfunc(cancel)\n",
    "Z2=Z[2:4,:].applyfunc(cancel)\n",
    "Z3=Z[4:,:].applyfunc(cancel)\n",
    "imprimir('Z_1=',Z1,', Z_2=',Z2,', Z_3=',Z3)"
   ]
  },
  {
   "cell_type": "code",
   "execution_count": 11,
   "metadata": {
    "collapsed": false
   },
   "outputs": [
    {
     "data": {
      "text/latex": [
       "$CZ=C(sU-A)^{-1}B=$$\\left[\\begin{matrix}- \\frac{6.0}{1.0 s + 0.5} & \\frac{3.0}{1.0 s + 2.0}\\\\\\frac{0.5}{1.0 s^{2} + 2.5 s + 1.0} & \\frac{1.0 s + 1.0}{1.0 s^{2} + 4.0 s + 4.0}\\end{matrix}\\right]$"
      ],
      "text/plain": [
       "<IPython.core.display.Latex object>"
      ]
     },
     "execution_count": 11,
     "metadata": {},
     "output_type": "execute_result"
    }
   ],
   "source": [
    "M3=C*Z\n",
    "M3=M3.applyfunc(cancel)#simplifica cada entrada de la matriz\n",
    "imprimir('CZ=C(sU-A)^{-1}B=',M3)"
   ]
  },
  {
   "cell_type": "code",
   "execution_count": 12,
   "metadata": {
    "collapsed": false
   },
   "outputs": [
    {
     "data": {
      "text/latex": [
       "$G(s)=$$\\left[\\begin{matrix}\\frac{4 s - 10}{2 s + 1} & \\frac{3}{s + 2}\\\\\\frac{1}{\\left(s + 2\\right) \\left(2 s + 1\\right)} & \\frac{s + 1}{\\left(s + 2\\right)^{2}}\\end{matrix}\\right]$"
      ],
      "text/plain": [
       "<IPython.core.display.Latex object>"
      ]
     },
     "execution_count": 12,
     "metadata": {},
     "output_type": "execute_result"
    }
   ],
   "source": [
    "G=M3+D\n",
    "G=G.applyfunc(nsimplify).applyfunc(cancel).applyfunc(factor)\n",
    "imprimir('G(s)=',G)"
   ]
  },
  {
   "cell_type": "markdown",
   "metadata": {},
   "source": [
    "Lo cual muestra que las matrices $A$, $B$, $C$ y $D$ efectivamente son una realización de $\\mathbf{G}(s)$.\n",
    "\n",
    "Ahora se presenta un proceso para encontrar las matrices $A$, $B$, $C$ y $D$ a partir de la matriz de funciones de transferencia $\\mathbf{G}(s)$. Para lo cual se requiere el siguiente teorema."
   ]
  },
  {
   "cell_type": "markdown",
   "metadata": {},
   "source": [
    "Teorema Chen 4.2\n",
    "\n",
    "Una matriz de funciones de transferencia $\\mathbf{G}(s)$ es realizable *sii* $\\mathbf{G}(s)$ es una matriz racional apropiada. \n",
    "\n",
    "[Repasar adjunta](adjunta)\n",
    "\n",
    "\n",
    "Para encontrar la realización de $\\mathbf{G}(s)$ recordemos que \n",
    "\n",
    "\\begin{align}\n",
    "\\mathbf{G}(s)&=C(sI-A)^{-1}B+D\\\\\n",
    "&=\\mathbf{G}_{sp}(s)+\\mathbf{G}(\\infty)\\\\\n",
    "\\end{align}\n",
    "En donde\n",
    "* $\\mathbf{G}(\\infty)=D$.  \n",
    "* $\\mathbf{G}_{sp}(s)=C(sI-A)^{-1}B=\\frac{1}{\\text{det}(sI-A)}C\\big(\\text{Adj}(sI-A)\\big)B$ es estrictamente propio.\n",
    "\n",
    "Debido a que el grado del polinomio en $s$ de $\\text{det}(sI-A)$ es mayor que cada uno de los cofactores de $\\text{Adj}(sI-A)$.\n",
    "\n",
    "Ahora se define el siguiente polinomio mónico (i.e. su principal coeficiente es 1) \n",
    "$$d(s)=s^r+\\alpha_1 s^{r-1} + \\cdots +\\alpha_{r-1} s + \\alpha_r$$\n",
    "que corresponde al común denominador de todas las entradas de $\\mathbf{G}_{sp}(s)$. Entonces $\\mathbf{G}_{sp}(s)$ se puede expresar como\n",
    "$$\\mathbf{G}_{sp}(s)=\\frac{1}{d(s)}(s^{r-1} N_1 + s^{r-2} N_2 + \\cdots + s N_{r-1} + N_r) $$\n",
    "En donde $N_i$ son matrices constantes de $ q \\times p $\n",
    "\n",
    "Las matrices restantes $A$, $B$ y $C$ están dadas por\n",
    "\\begin{align}\n",
    "A&=\\begin{bmatrix}\n",
    "-\\alpha_1 I_p & -\\alpha_2 I_p & \\cdots & -\\alpha_{r-1} I_p & -\\alpha_{r} I_p \\\\ \n",
    "I_p & 0_p & \\cdots & 0_p & 0_p \\\\\n",
    "0_p & I_p & \\cdots & 0_p & 0_p \\\\\n",
    "\\vdots & \\vdots & \\ddots & \\vdots & \\vdots \\\\\n",
    "0_p & 0_p & \\cdots & I_p & 0_p\\\\\n",
    "\\end{bmatrix}\\\\\n",
    "B&=\\begin{bmatrix}\n",
    "I_p \\\\  0_p \\\\ 0_p \\\\ \\vdots \\\\ 0_p \n",
    "\\end{bmatrix}\\\\\n",
    "C&=\\begin{bmatrix}\n",
    "N_1 & N_2 & \\cdots & N_{r-1} & N_r \n",
    "\\end{bmatrix}\\\\\n",
    "\\end{align}\n",
    "De tal forma que las ecuaciones de estado quedan\n",
    "* $\\dot{X}(s)=\\begin{bmatrix}\n",
    "-\\alpha_1 I_p & -\\alpha_2 I_p & \\cdots & -\\alpha_{r-1} I_p & -\\alpha_{r} I_p \\\\ \n",
    "I_p & 0_p & \\cdots & 0_p & 0_p \\\\\n",
    "0_p & I_p & \\cdots & 0_p & 0_p \\\\\n",
    "\\vdots & \\vdots & \\ddots & \\vdots & \\vdots \\\\\n",
    "0_p & 0_p & \\cdots & I_p & 0_p\\\\\n",
    "\\end{bmatrix}X(s) +\n",
    "\\begin{bmatrix}\n",
    "I_p \\\\  0_p \\\\ 0_p \\\\ \\vdots \\\\ 0_p \n",
    "\\end{bmatrix}U(s)$\n",
    "* $Y(s)=\\begin{bmatrix}\n",
    "N_1 & N_2 & \\cdots & N_{r-1} & N_r \n",
    "\\end{bmatrix}X(s)+\\mathbf{G}(\\infty)U(s)$\n",
    "\n",
    "En donde:\n",
    "* $I_p$ es la matriz identidad de $ p \\times p $,\n",
    "* $ 0_p $ es la matriz cero de $ p \\times p $,\n",
    "* $N_i$ es de $q \\times p$,\n",
    "* La matriz $A$ es de $rp \\times rp$, \n",
    "* La matriz $B$ es de $rp \\times p$, \n",
    "* La matriz $C$ es de $q \\times rp$, \n",
    "* La matriz $D$ es de $q \\times p$.\n",
    "\n",
    "Esta realización tiene dimensión $rp$ y se dice que está en la forma canónica controlable.\n",
    "\n",
    "Para mostrar que esta es una realización de $\\mathbf{G}(s)$ se va a calcular $C(sI-A)^{-1}B+D$. Primero se hace un cambio de variable."
   ]
  },
  {
   "cell_type": "markdown",
   "metadata": {},
   "source": [
    "\\begin{align}\n",
    "&Z=(sI-A)^{-1}B\\\\\n",
    "\\Rightarrow & (sI-A)Z=B  \\\\\n",
    "\\Rightarrow & sZ-AZ=B  \\\\\n",
    "\\Rightarrow & sZ=AZ+B  \\\\\n",
    "\\Rightarrow & s\\begin{bmatrix}\n",
    "Z_1 \\\\  Z_2  \\\\ Z_3 \\\\ \\vdots \\\\ Z_r \n",
    "\\end{bmatrix}=\\begin{bmatrix}\n",
    "-\\alpha_1 I_p & -\\alpha_2 I_p & \\cdots & -\\alpha_{r-1} I_p & -\\alpha_{r} I_p \\\\ \n",
    "I_p & 0_p & \\cdots & 0_p & 0_p \\\\\n",
    "0_p & I_p & \\cdots & 0_p & 0_p \\\\\n",
    "\\vdots & \\vdots & \\ddots & \\vdots & \\vdots \\\\\n",
    "0_p & 0_p & \\cdots & I_p & 0_p\\\\\n",
    "\\end{bmatrix}\\begin{bmatrix}\n",
    "Z_1 \\\\  Z_2  \\\\ \\vdots \\\\ Z_{r-1} \\\\ Z_r \n",
    "\\end{bmatrix}+\\begin{bmatrix}\n",
    "I_p \\\\  0_p \\\\ 0_p \\\\ \\vdots \\\\ 0_p \n",
    "\\end{bmatrix}  \\\\\n",
    "\\Rightarrow & s\\begin{bmatrix}\n",
    "Z_1 \\\\  Z_2  \\\\  Z_3 \\\\ \\vdots \\\\ Z_r \n",
    "\\end{bmatrix}=\\begin{bmatrix}\n",
    "-\\alpha_1 Z_1  -\\alpha_2 Z_2 - \\cdots  -\\alpha_{r-1} Z_{r-1}  -\\alpha_{r} Z_r  + I_p\\\\ \n",
    "Z_1  \\\\\n",
    "Z_2  \\\\\n",
    "\\vdots \\\\\n",
    "Z_{r-1} \\\\\n",
    "\\end{bmatrix}\\\\\n",
    "\\Rightarrow &  \\left\\{ \\begin{aligned}\n",
    "sZ_2=Z_1 &\\rightarrow  Z_2=\\frac{1}{s}Z_1 \\\\\n",
    "sZ_3=Z_2 &\\rightarrow  Z_2=\\frac{1}{s^2}Z_1 \\\\\n",
    "&\\vdots\\\\\n",
    "sZ_r=Z_{r-1} &\\rightarrow  Z_r=\\frac{1}{s^{r-1}}Z_1 \\\\\n",
    "sZ_1= -\\alpha_1& Z_1  -\\alpha_2 Z_2 - \\cdots  -\\alpha_{r-1} Z_{r-1} + -\\alpha_{r} Z_r  + I_p \\\\ \n",
    " =-\\Big( \\alpha_1& + \\frac{\\alpha_2}{s}+ \\cdots +\\frac{\\alpha_r}{s^{r-1}} \\Big) Z_1  + I_p \\\\ \n",
    " &\\rightarrow \\Big( s + \\alpha_1 + \\frac{\\alpha_2}{s}+ \\cdots +\\frac{\\alpha_r}{s^{r-1}} \\Big) Z_1=I_p\\\\\n",
    " &\\rightarrow \\frac{d(s)}{s^{r-1}} Z_1 = I_p\n",
    "\\end{aligned} \\right.\\\\\n",
    "\\Rightarrow & Z=\\frac{1}{d(s)}\\begin{bmatrix}\n",
    "s^{r-1}I_p \\\\ s^{r-2}I_p \\\\ \\vdots \\\\ sI_p \\\\ I_p \n",
    "\\end{bmatrix}\n",
    "\\end{align}"
   ]
  },
  {
   "cell_type": "markdown",
   "metadata": {
    "collapsed": true
   },
   "source": [
    "Ahora se calcula $C(sI-A)^{-1}B+D$\n",
    "\\begin{align}\n",
    "&C(sI-A)^{-1}B+D=CZ+D\\\\\n",
    "&=\\frac{1}{d(s)}\\begin{bmatrix}\n",
    "N_1 & N_2 & \\cdots & N_{r-1} & N_r \n",
    "\\end{bmatrix}\\begin{bmatrix}\n",
    "s^{r-1}I_p \\\\ s^{r-2}I_p \\\\ \\vdots \\\\ sI_p \\\\ I_p \n",
    "\\end{bmatrix}+\\mathbf{G}(\\infty)\\\\\n",
    "&=\\frac{1}{d(s)}\\begin{bmatrix}\n",
    "s^{r-1}N_1 + s^{r-2}N_2 + \\cdots + sN_{r-1} + N_r \n",
    "\\end{bmatrix}+\\mathbf{G}(\\infty)\\\\\n",
    "&=\\mathbf{G}_{sp}(s)+\\mathbf{G}(\\infty)\\\\\n",
    "&=\\mathbf{G}(s)\n",
    "\\end{align}\n",
    "\n",
    "Lo cual muestra que efectivamente $A$, $B$, $C$ y $D$ son una realización de $\\mathbf{G}(s)$. "
   ]
  },
  {
   "cell_type": "markdown",
   "metadata": {},
   "source": [
    "\n",
    "Ejemplo Chen 4.6 parte 2  \n",
    "\n",
    "Usando el anterior procedimiento encuentre una realización de \n",
    "$$\\mathbf{G}(s)=\\begin{bmatrix}\\frac{4 s - 10}{2 s + 1} & \\frac{3}{s + 2}\\\\ \\frac{1}{\\left(s + 2\\right) \\left(2 s + 1\\right)} & \\frac{s + 1}{\\left(s + 2\\right)^{2}}\\end{bmatrix}$$\n",
    "\n",
    "\n"
   ]
  },
  {
   "cell_type": "code",
   "execution_count": 13,
   "metadata": {
    "collapsed": false,
    "scrolled": true
   },
   "outputs": [
    {
     "data": {
      "text/latex": [
       "$G(s)=$$\\left[\\begin{matrix}\\frac{4 s - 10}{2 s + 1} & \\frac{3}{s + 2}\\\\\\frac{1}{\\left(s + 2\\right) \\left(2 s + 1\\right)} & \\frac{s + 1}{\\left(s + 2\\right)^{2}}\\end{matrix}\\right]$"
      ],
      "text/plain": [
       "<IPython.core.display.Latex object>"
      ]
     },
     "execution_count": 13,
     "metadata": {},
     "output_type": "execute_result"
    }
   ],
   "source": [
    "G=Matrix([\n",
    "[2*(2*s - 5)/(2*s + 1),          3/(s + 2)],\n",
    "[1/((s + 2)*(2*s + 1)), (s + 1)/(s + 2)**2]])\n",
    "\n",
    "imprimir('G(s)=',G)"
   ]
  },
  {
   "cell_type": "code",
   "execution_count": 14,
   "metadata": {
    "collapsed": false
   },
   "outputs": [
    {
     "data": {
      "text/latex": [
       "$D=$$\\left[\\begin{matrix}2 & 0\\\\0 & 0\\end{matrix}\\right]$"
      ],
      "text/plain": [
       "<IPython.core.display.Latex object>"
      ]
     },
     "execution_count": 14,
     "metadata": {},
     "output_type": "execute_result"
    }
   ],
   "source": [
    "lim_inf=lambda x:limit(x,s,oo)\n",
    "D=G.applyfunc(lim_inf)\n",
    "imprimir('D=',D)\n"
   ]
  },
  {
   "cell_type": "code",
   "execution_count": 15,
   "metadata": {
    "collapsed": false
   },
   "outputs": [
    {
     "data": {
      "text/latex": [
       "$G_{sp}=$$\\left[\\begin{matrix}- \\frac{12}{2 s + 1} & \\frac{3}{s + 2}\\\\\\frac{1}{2 s^{2} + 5 s + 2} & \\frac{s + 1}{s^{2} + 4 s + 4}\\end{matrix}\\right]$"
      ],
      "text/plain": [
       "<IPython.core.display.Latex object>"
      ]
     },
     "execution_count": 15,
     "metadata": {},
     "output_type": "execute_result"
    }
   ],
   "source": [
    "Gsp=G-D\n",
    "Gsp=Gsp.applyfunc(cancel)\n",
    "imprimir('G_{sp}=',Gsp)"
   ]
  },
  {
   "cell_type": "code",
   "execution_count": 16,
   "metadata": {
    "collapsed": false
   },
   "outputs": [
    {
     "data": {
      "text/latex": [
       "$\\frac{1}{s^{3} + \\frac{9 s^{2}}{2} + 6 s + 2}$$\\left[\\begin{matrix}- 6 s^{2} - 24 s - 24 & 3 s^{2} + \\frac{15 s}{2} + 3\\\\\\frac{s}{2} + 1 & s^{2} + \\frac{3 s}{2} + \\frac{1}{2}\\end{matrix}\\right]$"
      ],
      "text/plain": [
       "<IPython.core.display.Latex object>"
      ]
     },
     "execution_count": 16,
     "metadata": {},
     "output_type": "execute_result"
    }
   ],
   "source": [
    "Num,d=matriz_numer_denom(Gsp)\n",
    "imprimir(1/d,Num)"
   ]
  },
  {
   "cell_type": "code",
   "execution_count": 17,
   "metadata": {
    "collapsed": false
   },
   "outputs": [
    {
     "data": {
      "text/plain": [
       "[1, 9/2, 6, 2]"
      ]
     },
     "execution_count": 17,
     "metadata": {},
     "output_type": "execute_result"
    }
   ],
   "source": [
    "dp=Poly(d,s)\n",
    "coef=dp.all_coeffs()\n",
    "coef"
   ]
  },
  {
   "cell_type": "code",
   "execution_count": 18,
   "metadata": {
    "collapsed": false
   },
   "outputs": [
    {
     "data": {
      "text/latex": [
       "$A=$$\\left[\\begin{matrix}- \\frac{9}{2} & 0 & -6 & 0 & -2 & 0\\\\0 & - \\frac{9}{2} & 0 & -6 & 0 & -2\\\\1 & 0 & 0 & 0 & 0 & 0\\\\0 & 1 & 0 & 0 & 0 & 0\\\\0 & 0 & 1 & 0 & 0 & 0\\\\0 & 0 & 0 & 1 & 0 & 0\\end{matrix}\\right]$"
      ],
      "text/plain": [
       "<IPython.core.display.Latex object>"
      ]
     },
     "execution_count": 18,
     "metadata": {},
     "output_type": "execute_result"
    }
   ],
   "source": [
    "A=BlockMatrix([\n",
    "    [-coef[1]*I2,-coef[2]*I2,-coef[3]*I2],\n",
    "    [I2         ,O2         ,O2],\n",
    "    [O2         ,I2         ,O2],\n",
    "]).as_explicit()\n",
    "imprimir('A=',A)"
   ]
  },
  {
   "cell_type": "code",
   "execution_count": 19,
   "metadata": {
    "collapsed": false
   },
   "outputs": [
    {
     "data": {
      "text/latex": [
       "$B=$$\\left[\\begin{matrix}1 & 0\\\\0 & 1\\\\0 & 0\\\\0 & 0\\\\0 & 0\\\\0 & 0\\end{matrix}\\right]$"
      ],
      "text/plain": [
       "<IPython.core.display.Latex object>"
      ]
     },
     "execution_count": 19,
     "metadata": {},
     "output_type": "execute_result"
    }
   ],
   "source": [
    "B=BlockMatrix([[I2],[O2],[O2]]).as_explicit()\n",
    "imprimir('B=',B)"
   ]
  },
  {
   "cell_type": "code",
   "execution_count": 33,
   "metadata": {
    "collapsed": false,
    "scrolled": true
   },
   "outputs": [
    {
     "data": {
      "text/latex": [
       "$\\text{La matriz de coeficientes es }$$\\left[\\begin{matrix}\\left [ -6, \\quad -24, \\quad -24\\right ] & \\left [ 3, \\quad \\frac{15}{2}, \\quad 3\\right ]\\\\\\left [ \\frac{1}{2}, \\quad 1\\right ] & \\left [ 1, \\quad \\frac{3}{2}, \\quad \\frac{1}{2}\\right ]\\end{matrix}\\right]$"
      ],
      "text/plain": [
       "<IPython.core.display.Latex object>"
      ]
     },
     "execution_count": 33,
     "metadata": {},
     "output_type": "execute_result"
    }
   ],
   "source": [
    "coefs=lambda x:Poly(x,s).all_coeffs()\n",
    "N=Num.applyfunc(coefs)\n",
    "imprimir('\\\\text{La matriz de coeficientes es }',N)"
   ]
  },
  {
   "cell_type": "code",
   "execution_count": 30,
   "metadata": {
    "collapsed": false
   },
   "outputs": [
    {
     "data": {
      "text/latex": [
       "$C=$$\\left[\\begin{matrix}-6 & 3 & -24 & \\frac{15}{2} & -24 & 3\\\\0 & 1 & \\frac{1}{2} & \\frac{3}{2} & 1 & \\frac{1}{2}\\end{matrix}\\right]$"
      ],
      "text/plain": [
       "<IPython.core.display.Latex object>"
      ]
     },
     "execution_count": 30,
     "metadata": {},
     "output_type": "execute_result"
    }
   ],
   "source": [
    "[N1,N2,N3]=matList2listMat(N) # convierte una matriz de listas en una lista de matrices\n",
    "C=BlockMatrix([[N1,N2,N3]]).as_explicit()\n",
    "imprimir('C=',C)"
   ]
  },
  {
   "cell_type": "markdown",
   "metadata": {},
   "source": [
    "Las matrices $A$, $B$, $C$ y $D$ corresponden a las presentadas en la primera parte de este ejercicio."
   ]
  },
  {
   "cell_type": "code",
   "execution_count": null,
   "metadata": {
    "collapsed": true
   },
   "outputs": [],
   "source": []
  }
 ],
 "metadata": {
  "kernelspec": {
   "display_name": "Python 3",
   "language": "python",
   "name": "python3"
  },
  "language_info": {
   "codemirror_mode": {
    "name": "ipython",
    "version": 3
   },
   "file_extension": ".py",
   "mimetype": "text/x-python",
   "name": "python",
   "nbconvert_exporter": "python",
   "pygments_lexer": "ipython3",
   "version": "3.6.0"
  }
 },
 "nbformat": 4,
 "nbformat_minor": 2
}
